{
 "cells": [
  {
   "cell_type": "code",
   "execution_count": 30,
   "metadata": {},
   "outputs": [],
   "source": [
    "import matplotlib.pyplot as plt\n",
    "import numpy as np\n",
    "import scipy as sp\n",
    "import math\n",
    "from scipy.integrate import odeint\n",
    "import pandas as pd\n",
    "import seaborn\n",
    "from scipy import stats"
   ]
  },
  {
   "cell_type": "code",
   "execution_count": 31,
   "metadata": {},
   "outputs": [],
   "source": [
    "df = pd.read_csv('AllResistanceGenes.csv')"
   ]
  },
  {
   "cell_type": "code",
   "execution_count": 32,
   "metadata": {},
   "outputs": [],
   "source": [
    "ARGChro=np.zeros(np.size(df,0))\n",
    "BioChro=np.zeros(np.size(df,0))\n",
    "ARGPlas=np.zeros(np.size(df,0))\n",
    "BioPlas=np.zeros(np.size(df,0))\n",
    "PlasTotal=np.zeros(np.size(df,0))\n",
    "PlasNum=np.zeros(np.size(df,0))\n",
    "for i in range(np.size(df,0)):\n",
    "    ARGChro[i]=df.Antimicrobial_resistance_chromosome[i]\n",
    "    BioChro[i]=df.biofilm_chromosome[i]\n",
    "    ARGPlas[i]=df.Antimicrobial_resistance_plasmid[i]\n",
    "    BioPlas[i]=df.biofilm_plasmid[i]\n",
    "    PlasTotal[i]=df.plasmid_total_size[i]\n",
    "    PlasNum[i]=df.plasmid_count[i]"
   ]
  },
  {
   "cell_type": "code",
   "execution_count": 33,
   "metadata": {},
   "outputs": [],
   "source": [
    "def countzeros(x):\n",
    "    n=0\n",
    "    for i in range(len(x)):\n",
    "        if x[i]==0:\n",
    "            n=n+1\n",
    "    return n"
   ]
  },
  {
   "cell_type": "code",
   "execution_count": 34,
   "metadata": {},
   "outputs": [
    {
     "name": "stdout",
     "output_type": "stream",
     "text": [
      "0\n",
      "1\n",
      "2\n",
      "3\n",
      "4\n",
      "5\n",
      "6\n",
      "7\n",
      "8\n",
      "9\n",
      "10\n",
      "11\n",
      "12\n",
      "13\n",
      "14\n",
      "15\n",
      "16\n",
      "17\n",
      "18\n",
      "19\n",
      "20\n",
      "21\n",
      "22\n",
      "23\n",
      "24\n",
      "25\n",
      "26\n",
      "27\n",
      "28\n",
      "29\n",
      "30\n",
      "31\n",
      "32\n",
      "33\n",
      "34\n",
      "35\n",
      "36\n",
      "37\n",
      "38\n",
      "39\n",
      "40\n",
      "41\n",
      "42\n",
      "43\n",
      "44\n",
      "45\n",
      "46\n",
      "47\n",
      "48\n",
      "49\n"
     ]
    }
   ],
   "source": [
    "ARG_0C=np.zeros(50)\n",
    "ARG_1C=np.zeros(50)\n",
    "ARG_0P=np.zeros(50)\n",
    "ARG_1P=np.zeros(50)\n",
    "ARG_0G=np.zeros(50)\n",
    "ARG_1G=np.zeros(50)\n",
    "\n",
    "for i in range(50):\n",
    "    x0P=[]\n",
    "    x1P=[]\n",
    "    x0C=[]\n",
    "    x1C=[]\n",
    "    x0G=[]\n",
    "    x1G=[]\n",
    "    print(i)\n",
    "    for j in range(len(BioChro)):\n",
    "        if BioPlas[j]+BioChro[j]>0:\n",
    "            x1G.append(df.iloc[j,i+1+50]+df.iloc[j,i+1])\n",
    "            x1P.append(df.iloc[j,i+1+50])\n",
    "            x1C.append(df.iloc[j,i+1])\n",
    "        else:\n",
    "            x0G.append(df.iloc[j,i+1+50]+df.iloc[j,i+1])\n",
    "            x0P.append(df.iloc[j,i+1+50])\n",
    "            x0C.append(df.iloc[j,i+1])\n",
    "    ARG_0P[i]=1-countzeros(x0P)/len(x0P)\n",
    "    ARG_1P[i]=1-countzeros(x1P)/len(x1P)\n",
    "    ARG_0C[i]=1-countzeros(x0C)/len(x0C)\n",
    "    ARG_1C[i]=1-countzeros(x1C)/len(x1C)\n",
    "    ARG_0G[i]=1-countzeros(x0G)/len(x0G)\n",
    "    ARG_1G[i]=1-countzeros(x1G)/len(x1G)"
   ]
  },
  {
   "cell_type": "code",
   "execution_count": 35,
   "metadata": {},
   "outputs": [
    {
     "data": {
      "image/png": "[encoded data removed]",
      "text/plain": [
       "<Figure size 300x500 with 3 Axes>"
      ]
     },
     "metadata": {},
     "output_type": "display_data"
    }
   ],
   "source": [
    "plt.figure(figsize=(3,5))\n",
    "III=np.argsort(ARG_1G)\n",
    "plt.subplot(1,3,1)\n",
    "plt.barh(np.arange(1,51,1),-ARG_0P[III])\n",
    "plt.barh(np.arange(1,51,1),ARG_1P[III])\n",
    "plt.ylim(-1,51)\n",
    "plt.plot([0,0],[0,51],'-',color='black',linewidth=0.5)\n",
    "for pos in ['left', 'right','bottom']: \n",
    "    plt.gca().spines[pos].set_visible(False) \n",
    "#plt.xticks([])\n",
    "plt.tick_params(left=False, labelleft=False, top=True, labeltop=True,direction='out')\n",
    "plt.xlim(-0.2,0.4)\n",
    "\n",
    "plt.subplot(1,3,2)\n",
    "plt.barh(np.arange(1,51,1),-ARG_0C[III])\n",
    "plt.barh(np.arange(1,51,1),ARG_1C[III])\n",
    "plt.ylim(-1,51)\n",
    "plt.plot([0,0],[0,51],'-',color='black',linewidth=0.5)\n",
    "for pos in ['left', 'right','bottom']: \n",
    "    plt.gca().spines[pos].set_visible(False) \n",
    "#plt.xticks([])\n",
    "plt.tick_params(left=False, labelleft=False, top=True, labeltop=True,direction='out')\n",
    "plt.xlim(-1,1)\n",
    "\n",
    "plt.subplot(1,3,3)\n",
    "plt.barh(np.arange(1,51,1),-ARG_0G[III])\n",
    "plt.barh(np.arange(1,51,1),ARG_1G[III])\n",
    "plt.ylim(-1,51)\n",
    "plt.plot([0,0],[0,51],'-',color='black',linewidth=0.5)\n",
    "for pos in ['left', 'right','bottom']: \n",
    "    plt.gca().spines[pos].set_visible(False) \n",
    "#plt.xticks([])\n",
    "plt.tick_params(left=False, labelleft=False, top=True, labeltop=True,direction='out')\n",
    "plt.xlim(-1,1)\n",
    "plt.savefig('ResistanceGenesByTypes2.pdf')\n"
   ]
  },
  {
   "cell_type": "code",
   "execution_count": 37,
   "metadata": {},
   "outputs": [],
   "source": [
    "dfn = pd.read_csv('ResistanceNames.csv')\n",
    "IIID=np.argsort(ARG_1G)[::-1]\n",
    "ASDF=dfn.iloc[IIID,0]\n",
    "ASDF.to_csv(\"ResistanceNamesSort.csv\")"
   ]
  }
 ],
 "metadata": {
  "kernelspec": {
   "display_name": "Python 3",
   "language": "python",
   "name": "python3"
  },
  "language_info": {
   "codemirror_mode": {
    "name": "ipython",
    "version": 3
   },
   "file_extension": ".py",
   "mimetype": "text/x-python",
   "name": "python",
   "nbconvert_exporter": "python",
   "pygments_lexer": "ipython3",
   "version": "3.11.3"
  }
 },
 "nbformat": 4,
 "nbformat_minor": 2
}
