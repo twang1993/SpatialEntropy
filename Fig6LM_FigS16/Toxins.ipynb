{
 "cells": [
  {
   "cell_type": "code",
   "execution_count": 11,
   "metadata": {},
   "outputs": [],
   "source": [
    "import matplotlib.pyplot as plt\n",
    "import numpy as np\n",
    "import scipy as sp\n",
    "import math\n",
    "from scipy.integrate import odeint\n",
    "import pandas as pd\n",
    "import seaborn\n",
    "from scipy import stats"
   ]
  },
  {
   "cell_type": "code",
   "execution_count": 12,
   "metadata": {},
   "outputs": [],
   "source": [
    "df = pd.read_csv('result_toxin.csv')"
   ]
  },
  {
   "cell_type": "code",
   "execution_count": 13,
   "metadata": {},
   "outputs": [
    {
     "name": "stdout",
     "output_type": "stream",
     "text": [
      "34688\n"
     ]
    }
   ],
   "source": [
    "print(np.size(df,0))#.Antimicrobial_resistance_chromosome[i]"
   ]
  },
  {
   "cell_type": "code",
   "execution_count": 14,
   "metadata": {},
   "outputs": [],
   "source": [
    "ToxinChro=np.zeros(np.size(df,0))\n",
    "BioChro=np.zeros(np.size(df,0))\n",
    "ToxinPlas=np.zeros(np.size(df,0))\n",
    "BioPlas=np.zeros(np.size(df,0))\n",
    "PlasNum=np.zeros(np.size(df,0))\n",
    "for i in range(np.size(df,0)):\n",
    "    ToxinChro[i]=df.toxin_chromosome[i]\n",
    "    BioChro[i]=df.biofilm_chromosome[i]\n",
    "    ToxinPlas[i]=df.toxin_plasmid[i]\n",
    "    BioPlas[i]=df.biofilm_plasmid[i]\n",
    "    PlasNum[i]=df.plasmid_count[i]"
   ]
  },
  {
   "cell_type": "code",
   "execution_count": 15,
   "metadata": {},
   "outputs": [],
   "source": [
    "PP0ToxinPlas=[]\n",
    "PP1ToxinPlas=[]\n",
    "PP0ToxinPerPlas=[]\n",
    "PP1ToxinPerPlas=[]\n",
    "PP0ToxinChro=[]\n",
    "PP1ToxinChro=[]\n",
    "PP0ToxinTot=[]\n",
    "PP1ToxinTot=[]\n",
    "\n",
    "\n",
    "for i in range(len(BioChro)):\n",
    "    if BioChro[i]+BioPlas[i]==0 and PlasNum[i]==0:\n",
    "        #PP0ToxinPlas.append(ToxinPlas[i])\n",
    "        PP0ToxinChro.append(ToxinChro[i])\n",
    "        PP0ToxinTot.append(ToxinPlas[i]+ToxinChro[i])\n",
    "    if BioChro[i]+BioPlas[i]==0 and PlasNum[i]>0:\n",
    "        PP0ToxinPlas.append(ToxinPlas[i])\n",
    "        PP0ToxinPerPlas.append(ToxinPlas[i]/PlasNum[i])\n",
    "        PP0ToxinChro.append(ToxinChro[i])\n",
    "        PP0ToxinTot.append(ToxinPlas[i]+ToxinChro[i])\n",
    "    if BioChro[i]+BioPlas[i]>0 and PlasNum[i]==0:\n",
    "        #PP1ToxinPlas.append(ToxinPlas[i])\n",
    "        PP1ToxinChro.append(ToxinChro[i])\n",
    "        PP1ToxinTot.append(ToxinPlas[i]+ToxinChro[i])\n",
    "    if BioChro[i]+BioPlas[i]>0 and PlasNum[i]>0:\n",
    "        PP1ToxinPlas.append(ToxinPlas[i])\n",
    "        PP1ToxinPerPlas.append(ToxinPlas[i]/PlasNum[i])\n",
    "        PP1ToxinChro.append(ToxinChro[i])\n",
    "        PP1ToxinTot.append(ToxinPlas[i]+ToxinChro[i])"
   ]
  },
  {
   "cell_type": "code",
   "execution_count": 16,
   "metadata": {},
   "outputs": [
    {
     "name": "stdout",
     "output_type": "stream",
     "text": [
      "8.80903786006095e-74\n"
     ]
    },
    {
     "data": {
      "image/png": "[encoded data removed]",
      "text/plain": [
       "<Figure size 100x150 with 1 Axes>"
      ]
     },
     "metadata": {},
     "output_type": "display_data"
    }
   ],
   "source": [
    "plt.figure(figsize=(1,1.5))\n",
    "seaborn.boxplot([PP0ToxinPlas,PP1ToxinPlas],fliersize=0,width=0.5)\n",
    "for pos in ['right', 'top']: \n",
    "    plt.gca().spines[pos].set_visible(False) \n",
    "plt.tick_params(direction='out')\n",
    "plt.ylim(-1,30)\n",
    "tstat, pval = stats.ttest_ind(a=PP0ToxinPlas, b=PP1ToxinPlas, alternative=\"two-sided\")\n",
    "plt.savefig('Toxin_1.pdf')\n",
    "print(pval)"
   ]
  },
  {
   "cell_type": "code",
   "execution_count": 17,
   "metadata": {},
   "outputs": [
    {
     "name": "stdout",
     "output_type": "stream",
     "text": [
      "4.3848029447009116e-42\n"
     ]
    },
    {
     "data": {
      "image/png": "[encoded data removed]",
      "text/plain": [
       "<Figure size 100x150 with 1 Axes>"
      ]
     },
     "metadata": {},
     "output_type": "display_data"
    }
   ],
   "source": [
    "plt.figure(figsize=(1,1.5))\n",
    "seaborn.boxplot([PP0ToxinPerPlas,PP1ToxinPerPlas],fliersize=0,width=0.5)\n",
    "for pos in ['right', 'top']: \n",
    "    plt.gca().spines[pos].set_visible(False) \n",
    "plt.tick_params(direction='out')\n",
    "plt.ylim(-0.2,9)\n",
    "tstat, pval = stats.ttest_ind(a=PP0ToxinPerPlas, b=PP1ToxinPerPlas, alternative=\"two-sided\")\n",
    "plt.savefig('Toxin_2.pdf')\n",
    "print(pval)"
   ]
  },
  {
   "cell_type": "code",
   "execution_count": 18,
   "metadata": {},
   "outputs": [
    {
     "name": "stdout",
     "output_type": "stream",
     "text": [
      "0.0\n"
     ]
    },
    {
     "data": {
      "image/png": "[encoded data removed]",
      "text/plain": [
       "<Figure size 100x150 with 1 Axes>"
      ]
     },
     "metadata": {},
     "output_type": "display_data"
    }
   ],
   "source": [
    "plt.figure(figsize=(1,1.5))\n",
    "seaborn.boxplot([PP0ToxinChro,PP1ToxinChro],fliersize=0,width=0.5)\n",
    "for pos in ['right', 'top']: \n",
    "    plt.gca().spines[pos].set_visible(False) \n",
    "plt.tick_params(direction='out')\n",
    "plt.ylim(-3,130)\n",
    "tstat, pval = stats.ttest_ind(a=PP0ToxinChro, b=PP1ToxinChro, alternative=\"two-sided\")\n",
    "plt.savefig('Toxin_3.pdf')\n",
    "print(pval)"
   ]
  },
  {
   "cell_type": "code",
   "execution_count": 19,
   "metadata": {},
   "outputs": [
    {
     "name": "stdout",
     "output_type": "stream",
     "text": [
      "23.458569607455274\n"
     ]
    }
   ],
   "source": [
    "print(np.mean(PP0ToxinTot))"
   ]
  },
  {
   "cell_type": "code",
   "execution_count": 20,
   "metadata": {},
   "outputs": [
    {
     "name": "stdout",
     "output_type": "stream",
     "text": [
      "0.0\n"
     ]
    },
    {
     "data": {
      "image/png": "[encoded data removed]",
      "text/plain": [
       "<Figure size 100x150 with 1 Axes>"
      ]
     },
     "metadata": {},
     "output_type": "display_data"
    }
   ],
   "source": [
    "plt.figure(figsize=(1,1.5))\n",
    "seaborn.boxplot([PP0ToxinTot,PP1ToxinTot],fliersize=0,width=0.5)\n",
    "for pos in ['right', 'top']: \n",
    "    plt.gca().spines[pos].set_visible(False) \n",
    "plt.tick_params(direction='out')\n",
    "plt.ylim(-5,120)\n",
    "tstat, pval = stats.ttest_ind(a=PP0ToxinTot, b=PP1ToxinTot, alternative=\"two-sided\")\n",
    "plt.savefig('Toxin_4.pdf')\n",
    "print(pval)"
   ]
  }
 ],
 "metadata": {
  "kernelspec": {
   "display_name": "Python 3",
   "language": "python",
   "name": "python3"
  },
  "language_info": {
   "codemirror_mode": {
    "name": "ipython",
    "version": 3
   },
   "file_extension": ".py",
   "mimetype": "text/x-python",
   "name": "python",
   "nbconvert_exporter": "python",
   "pygments_lexer": "ipython3",
   "version": "3.11.3"
  }
 },
 "nbformat": 4,
 "nbformat_minor": 2
}
