{
 "cells": [
  {
   "cell_type": "code",
   "execution_count": 1,
   "metadata": {},
   "outputs": [],
   "source": [
    "import matplotlib.pyplot as plt\n",
    "import numpy as np\n",
    "import scipy as sp\n",
    "import math\n",
    "from scipy.integrate import odeint\n",
    "import pandas as pd\n",
    "import seaborn\n",
    "from scipy import stats"
   ]
  },
  {
   "cell_type": "code",
   "execution_count": 2,
   "metadata": {},
   "outputs": [],
   "source": [
    "df = pd.read_csv('result_Transposase.csv')"
   ]
  },
  {
   "cell_type": "code",
   "execution_count": 3,
   "metadata": {},
   "outputs": [
    {
     "name": "stdout",
     "output_type": "stream",
     "text": [
      "34688\n"
     ]
    }
   ],
   "source": [
    "print(np.size(df,0))#.Antimicrobial_resistance_chromosome[i]"
   ]
  },
  {
   "cell_type": "code",
   "execution_count": 4,
   "metadata": {},
   "outputs": [],
   "source": [
    "TransChro=np.zeros(np.size(df,0))\n",
    "BioChro=np.zeros(np.size(df,0))\n",
    "TransPlas=np.zeros(np.size(df,0))\n",
    "BioPlas=np.zeros(np.size(df,0))\n",
    "PlasNum=np.zeros(np.size(df,0))\n",
    "for i in range(np.size(df,0)):\n",
    "    TransChro[i]=df.Transposase_chromosome[i]\n",
    "    BioChro[i]=df.biofilm_chromosome[i]\n",
    "    TransPlas[i]=df.Transposase_plasmid[i]\n",
    "    BioPlas[i]=df.biofilm_plasmid[i]\n",
    "    PlasNum[i]=df.plasmid_count[i]"
   ]
  },
  {
   "cell_type": "code",
   "execution_count": 5,
   "metadata": {},
   "outputs": [],
   "source": [
    "PP0TransPlas=[]\n",
    "PP1TransPlas=[]\n",
    "PP0TransPerPlas=[]\n",
    "PP1TransPerPlas=[]\n",
    "PP0TransChro=[]\n",
    "PP1TransChro=[]\n",
    "PP0TransTot=[]\n",
    "PP1TransTot=[]\n",
    "\n",
    "\n",
    "for i in range(len(BioChro)):\n",
    "    if BioChro[i]+BioPlas[i]==0 and PlasNum[i]==0:\n",
    "        #PP0TransPlas.append(TransPlas[i])\n",
    "        PP0TransChro.append(TransChro[i])\n",
    "        PP0TransTot.append(TransPlas[i]+TransChro[i])\n",
    "    if BioChro[i]+BioPlas[i]==0 and PlasNum[i]>0:\n",
    "        PP0TransPlas.append(TransPlas[i])\n",
    "        PP0TransPerPlas.append(TransPlas[i]/PlasNum[i])\n",
    "        PP0TransChro.append(TransChro[i])\n",
    "        PP0TransTot.append(TransPlas[i]+TransChro[i])\n",
    "    if BioChro[i]+BioPlas[i]>0 and PlasNum[i]==0:\n",
    "        #PP1TransPlas.append(TransPlas[i])\n",
    "        PP1TransChro.append(TransChro[i])\n",
    "        PP1TransTot.append(TransPlas[i]+TransChro[i])\n",
    "    if BioChro[i]+BioPlas[i]>0 and PlasNum[i]>0:\n",
    "        PP1TransPlas.append(TransPlas[i])\n",
    "        PP1TransPerPlas.append(TransPlas[i]/PlasNum[i])\n",
    "        PP1TransChro.append(TransChro[i])\n",
    "        PP1TransTot.append(TransPlas[i]+TransChro[i])"
   ]
  },
  {
   "cell_type": "code",
   "execution_count": 6,
   "metadata": {},
   "outputs": [
    {
     "name": "stdout",
     "output_type": "stream",
     "text": [
      "2.181649032486057e-63\n"
     ]
    },
    {
     "data": {
      "image/png": "[encoded data removed]",
      "text/plain": [
       "<Figure size 100x150 with 1 Axes>"
      ]
     },
     "metadata": {},
     "output_type": "display_data"
    }
   ],
   "source": [
    "plt.figure(figsize=(1,1.5))\n",
    "seaborn.boxplot([PP0TransPlas,PP1TransPlas],fliersize=0,width=0.5)\n",
    "for pos in ['right', 'top']: \n",
    "    plt.gca().spines[pos].set_visible(False) \n",
    "plt.tick_params(direction='out')\n",
    "plt.ylim(-3,100)\n",
    "tstat, pval = stats.ttest_ind(a=PP0TransPlas, b=PP1TransPlas, alternative=\"two-sided\")\n",
    "plt.savefig('Transposase_1.pdf')\n",
    "print(pval)"
   ]
  },
  {
   "cell_type": "code",
   "execution_count": 7,
   "metadata": {},
   "outputs": [
    {
     "name": "stdout",
     "output_type": "stream",
     "text": [
      "2.181649032486057e-63\n"
     ]
    },
    {
     "data": {
      "image/png": "[encoded data removed]",
      "text/plain": [
       "<Figure size 100x150 with 1 Axes>"
      ]
     },
     "metadata": {},
     "output_type": "display_data"
    }
   ],
   "source": [
    "plt.figure(figsize=(1,1.5))\n",
    "seaborn.boxplot([PP0TransPerPlas,PP1TransPerPlas],fliersize=0,width=0.5)\n",
    "for pos in ['right', 'top']: \n",
    "    plt.gca().spines[pos].set_visible(False) \n",
    "plt.tick_params(direction='out')\n",
    "plt.ylim(-3,40)\n",
    "tstat, pval = stats.ttest_ind(a=PP0TransPlas, b=PP1TransPlas, alternative=\"two-sided\")\n",
    "plt.savefig('Transposase_2.pdf')\n",
    "print(pval)"
   ]
  },
  {
   "cell_type": "code",
   "execution_count": 8,
   "metadata": {},
   "outputs": [
    {
     "name": "stdout",
     "output_type": "stream",
     "text": [
      "0.0014979703572722595\n"
     ]
    },
    {
     "data": {
      "image/png": "[encoded data removed]",
      "text/plain": [
       "<Figure size 100x150 with 1 Axes>"
      ]
     },
     "metadata": {},
     "output_type": "display_data"
    }
   ],
   "source": [
    "plt.figure(figsize=(1,1.5))\n",
    "seaborn.boxplot([PP0TransChro,PP1TransChro],fliersize=0,width=0.5)\n",
    "for pos in ['right', 'top']: \n",
    "    plt.gca().spines[pos].set_visible(False) \n",
    "plt.tick_params(direction='out')\n",
    "plt.ylim(-3,150)\n",
    "tstat, pval = stats.ttest_ind(a=PP0TransChro, b=PP1TransChro, alternative=\"two-sided\")\n",
    "plt.savefig('Transposase_3.pdf')\n",
    "print(pval)"
   ]
  },
  {
   "cell_type": "code",
   "execution_count": 9,
   "metadata": {},
   "outputs": [
    {
     "name": "stdout",
     "output_type": "stream",
     "text": [
      "59.43962371972395\n"
     ]
    }
   ],
   "source": [
    "print(np.mean(PP0TransTot))"
   ]
  },
  {
   "cell_type": "code",
   "execution_count": 10,
   "metadata": {},
   "outputs": [
    {
     "name": "stdout",
     "output_type": "stream",
     "text": [
      "1.8917700198033407e-17\n"
     ]
    },
    {
     "data": {
      "image/png": "[encoded data removed]",
      "text/plain": [
       "<Figure size 100x150 with 1 Axes>"
      ]
     },
     "metadata": {},
     "output_type": "display_data"
    }
   ],
   "source": [
    "plt.figure(figsize=(1,1.5))\n",
    "seaborn.boxplot([PP0TransTot,PP1TransTot],fliersize=0,width=0.5)\n",
    "for pos in ['right', 'top']: \n",
    "    plt.gca().spines[pos].set_visible(False) \n",
    "plt.tick_params(direction='out')\n",
    "plt.ylim(-5,200)\n",
    "tstat, pval = stats.ttest_ind(a=PP0TransTot, b=PP1TransTot, alternative=\"two-sided\")\n",
    "plt.savefig('Transposase_4.pdf')\n",
    "print(pval)"
   ]
  }
 ],
 "metadata": {
  "kernelspec": {
   "display_name": "Python 3",
   "language": "python",
   "name": "python3"
  },
  "language_info": {
   "codemirror_mode": {
    "name": "ipython",
    "version": 3
   },
   "file_extension": ".py",
   "mimetype": "text/x-python",
   "name": "python",
   "nbconvert_exporter": "python",
   "pygments_lexer": "ipython3",
   "version": "3.11.3"
  }
 },
 "nbformat": 4,
 "nbformat_minor": 2
}
