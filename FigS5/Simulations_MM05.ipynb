{
 "cells": [
  {
   "cell_type": "code",
   "execution_count": 1,
   "metadata": {},
   "outputs": [],
   "source": [
    "import matplotlib.pyplot as plt\n",
    "import numpy as np\n",
    "import scipy as sp\n",
    "from scipy.integrate import odeint\n",
    "import seaborn as sns"
   ]
  },
  {
   "cell_type": "code",
   "execution_count": 2,
   "metadata": {},
   "outputs": [],
   "source": [
    "global Eta,Connec,Kappa,Abun0,mu0,mu1,D,Nm1,Nm2"
   ]
  },
  {
   "cell_type": "code",
   "execution_count": 3,
   "metadata": {},
   "outputs": [],
   "source": [
    "def ARGMove(y,t):\n",
    "    s0=y[0]\n",
    "    s1=y[1]\n",
    "    r0=y[2]\n",
    "    r1=y[3]\n",
    "    dydt=[mu0*s0*(1-(s0+s1)/Nm1)-Eta*s0*(s1+Connec*r1)+Kappa*s1-D*s0,\n",
    "        mu1*s1*(1-(s0+s1)/Nm1)+Eta*s0*(s1+Connec*r1)-Kappa*s1-D*s1,\n",
    "        mu0*r0*(1-(r0+r1)/Nm2)-Eta*r0*(r1+Connec*s1)+Kappa*r1-D*r0,\n",
    "        mu1*r1*(1-(r0+r1)/Nm2)+Eta*r0*(r1+Connec*s1)-Kappa*r1-D*r1]\n",
    "    return dydt"
   ]
  },
  {
   "cell_type": "code",
   "execution_count": 4,
   "metadata": {},
   "outputs": [],
   "source": [
    "Connec=0.04\n",
    "Kappa=0.01\n",
    "Abun0=0.01\n",
    "mu0=0.5\n",
    "mu1=0.48\n",
    "D=0.02\n",
    "Etas=[0.01,0.015,0.02]\n",
    "\n",
    "MM=0.5\n",
    "Nm1s=np.arange(0.01,MM/2,0.05*MM/2)\n",
    "Num=len(Nm1s)\n",
    "\n",
    "frac=np.zeros((len(Etas),Num))\n",
    "Entropy=np.zeros((len(Etas),Num))\n",
    "\n",
    "for j in range(len(Etas)):\n",
    "    Eta=Etas[j]\n",
    "    for i in range(Num):\n",
    "        Nm1=Nm1s[i]\n",
    "        Nm2=MM-Nm1\n",
    "\n",
    "        n1=Nm1/(Nm1+Nm2)\n",
    "        n2=Nm2/(Nm1+Nm2)\n",
    "        Entropy[j,i]=np.exp(-n1*np.log(n1)-n2*np.log(n2))/2\n",
    "        ff=0.01\n",
    "        Initial=[ff*Nm1,ff*Nm1,ff*Nm2,ff*Nm2]\n",
    "        timespan=np.arange(0,1000,1)\n",
    "        y1=odeint(ARGMove,Initial,timespan)\n",
    "        S0=y1[-1,0]\n",
    "        S1=y1[-1,1]\n",
    "        R0=y1[-1,2]\n",
    "        R1=y1[-1,3]\n",
    "        frac[j,i]=(S1+R1)/(S0+S1+R0+R1)"
   ]
  },
  {
   "cell_type": "code",
   "execution_count": 5,
   "metadata": {},
   "outputs": [
    {
     "data": {
      "image/png": "[encoded data removed]",
      "text/plain": [
       "<Figure size 200x200 with 1 Axes>"
      ]
     },
     "metadata": {},
     "output_type": "display_data"
    }
   ],
   "source": [
    "plt.figure(figsize=(2,2))\n",
    "for i in range(len(Etas)):\n",
    "    plt.plot(Entropy[i,:],frac[i,:],'-',marker='o',markersize=5)\n",
    "plt.yscale('log')\n",
    "#plt.ylim(0,0.8)\n",
    "plt.xlabel('entropy',fontsize=20)\n",
    "plt.ylabel('abundance',fontsize=20)\n",
    "plt.savefig('Simulations_MM05.pdf')\n",
    "plt.show()"
   ]
  }
 ],
 "metadata": {
  "kernelspec": {
   "display_name": "Python 3",
   "language": "python",
   "name": "python3"
  },
  "language_info": {
   "codemirror_mode": {
    "name": "ipython",
    "version": 3
   },
   "file_extension": ".py",
   "mimetype": "text/x-python",
   "name": "python",
   "nbconvert_exporter": "python",
   "pygments_lexer": "ipython3",
   "version": "3.11.3"
  }
 },
 "nbformat": 4,
 "nbformat_minor": 2
}
