{
 "cells": [
  {
   "cell_type": "code",
   "execution_count": 57,
   "metadata": {},
   "outputs": [],
   "source": [
    "import matplotlib.pyplot as plt\n",
    "import numpy as np\n",
    "from perlin_noise import PerlinNoise\n",
    "from scipy.integrate import solve_ivp"
   ]
  },
  {
   "cell_type": "code",
   "execution_count": 58,
   "metadata": {},
   "outputs": [],
   "source": [
    "global Scale,AbunMatrix,Eta,Connec,Kappa,Abun0,mu0,mu1,D"
   ]
  },
  {
   "cell_type": "code",
   "execution_count": 59,
   "metadata": {},
   "outputs": [],
   "source": [
    "def Arr2Posi(num,y):\n",
    "    a=np.mod(y,num)\n",
    "    b=int((y-a)/num)\n",
    "    return [a,b]"
   ]
  },
  {
   "cell_type": "code",
   "execution_count": 60,
   "metadata": {},
   "outputs": [],
   "source": [
    "def Posi2Arr(num,a,b):\n",
    "    return a+b*num"
   ]
  },
  {
   "cell_type": "code",
   "execution_count": 61,
   "metadata": {},
   "outputs": [],
   "source": [
    "def Dis(num,x,index):\n",
    "    y=np.zeros(len(x))\n",
    "    AA=Arr2Posi(num,index)\n",
    "    for i in range(len(x)):\n",
    "        BB=Arr2Posi(num,x[i])\n",
    "        y[i]=np.sqrt((AA[0]-BB[0])**2+(AA[1]-BB[1])**2)\n",
    "    return y"
   ]
  },
  {
   "cell_type": "code",
   "execution_count": 62,
   "metadata": {},
   "outputs": [],
   "source": [
    "def Nearby(num,y):\n",
    "    A=[]\n",
    "    [a,b]=Arr2Posi(num,y)\n",
    "    if a>0:\n",
    "        A.append(Posi2Arr(num,a-1,b))\n",
    "    if a<num-1:\n",
    "        A.append(Posi2Arr(num,a+1,b))\n",
    "    if b>0:\n",
    "        A.append(Posi2Arr(num,a,b-1))\n",
    "    if b<num-1:\n",
    "        A.append(Posi2Arr(num,a,b+1))\n",
    "    return A"
   ]
  },
  {
   "cell_type": "code",
   "execution_count": 63,
   "metadata": {},
   "outputs": [],
   "source": [
    "def ARG_Move(t,y):\n",
    "    dydt=np.zeros((Scale**2)*2)\n",
    "    for i in range(Scale**2):\n",
    "        aa=Arr2Posi(Scale,i)\n",
    "        bb=Nearby(Scale,i)\n",
    "        ss0=0\n",
    "        ss1=0\n",
    "        for j in range(len(bb)):\n",
    "            ss0=ss0+y[bb[j]]\n",
    "            ss1=ss1+y[bb[j]+Scale**2]\n",
    "        if AbunMatrix[aa[0],aa[1]]==0:\n",
    "            dydt[i]=0\n",
    "            dydt[i+Scale**2]=0\n",
    "        else:\n",
    "            dydt[i]=mu0*y[i]*(1-(y[i]+y[i+Scale**2])/AbunMatrix[aa[0],aa[1]])-Eta*y[i]*(y[i+Scale**2]+Connec*ss1)+Kappa*y[i+Scale**2]-D*y[i]\n",
    "            dydt[i+Scale**2]=mu1*y[i+Scale**2]*(1-(y[i]+y[i+Scale**2])/AbunMatrix[aa[0],aa[1]])+Eta*y[i]*(y[i+Scale**2]+Connec*ss1)-Kappa*y[i+Scale**2]-D*y[i+Scale**2]\n",
    "    return dydt"
   ]
  },
  {
   "cell_type": "code",
   "execution_count": 73,
   "metadata": {},
   "outputs": [
    {
     "data": {
      "image/png": "[encoded data removed]",
      "text/plain": [
       "<Figure size 200x200 with 2 Axes>"
      ]
     },
     "metadata": {},
     "output_type": "display_data"
    }
   ],
   "source": [
    "Scale=101\n",
    "plt.figure(figsize=(2,2))\n",
    "noise = PerlinNoise(octaves=3, seed=1)\n",
    "xpix, ypix = Scale, Scale\n",
    "pic = [[noise([i/xpix, j/ypix]) for j in range(xpix)] for i in range(ypix)]\n",
    "land=(np.abs(pic))**1\n",
    "land=0.001+(land-np.min(land))/(np.max(land)-np.min(land))*0.999\n",
    "#xxxx=np.min(land[np.nonzero(land)])\n",
    "#for fgh in range(Scale):\n",
    "#    for jkl in range(Scale):\n",
    "#        if land[fgh,jkl]==0:\n",
    "#            land[fgh,jkl]=xxxx\n",
    "AbunMatrix=land/np.sum(land)*Scale**2\n",
    "plt.imshow(AbunMatrix, cmap='OrRd')\n",
    "plt.colorbar()\n",
    "plt.clim(0,7)\n",
    "plt.xticks([])\n",
    "plt.yticks([])\n",
    "plt.savefig('VariousLandscape_Seed.pdf')\n",
    "plt.show()"
   ]
  },
  {
   "cell_type": "code",
   "execution_count": 65,
   "metadata": {},
   "outputs": [
    {
     "name": "stdout",
     "output_type": "stream",
     "text": [
      "0\n",
      "1\n",
      "2\n",
      "3\n"
     ]
    },
    {
     "data": {
      "image/png": "[encoded data removed]",
      "text/plain": [
       "<Figure size 400x200 with 4 Axes>"
      ]
     },
     "metadata": {},
     "output_type": "display_data"
    }
   ],
   "source": [
    "Eta=0.02\n",
    "Connec=0.04\n",
    "Kappa=0.01\n",
    "Abun0=0.01\n",
    "mu0=0.5\n",
    "mu1=0.45\n",
    "D=0.02\n",
    "Center=int((Scale-1)/2)\n",
    "InitialM=np.zeros((Scale,Scale))\n",
    "InitialM[Center,Center]=Abun0*AbunMatrix[Center,Center]\n",
    "Initial=np.concatenate((AbunMatrix.flatten(),InitialM.flatten()),axis=0)\n",
    "timespan=np.arange(0,800,1)\n",
    "sol=solve_ivp(ARG_Move,[0,max(timespan)],Initial,method='RK23',t_eval=timespan)\n",
    "y1=sol.y\n",
    "\n",
    "tpoints=[0.2,0.4,0.6,0.8]\n",
    "plt.figure(figsize=(4,2))\n",
    "for j in range(len(tpoints)):\n",
    "    print(j)\n",
    "    tpoint=int(tpoints[j]*np.size(y1,1))-1\n",
    "    Plasmid=y1[np.arange(Scale**2,(Scale**2)*2,1),tpoint]\n",
    "    #Plasmid=np.divide(y1[np.arange(Scale**2,(Scale**2)*2,1),tpoint],y1[np.arange(0,(Scale**2),1),tpoint]+y1[np.arange(Scale**2,(Scale**2)*2,1),tpoint])\n",
    "    PlasmidM=np.zeros((Scale,Scale))\n",
    "    for i in range(len(Plasmid)):\n",
    "        aa=Arr2Posi(Scale,i)\n",
    "        PlasmidM[aa[0],aa[1]]=Plasmid[i]\n",
    "    plt.subplot(1,len(tpoints),j+1)\n",
    "    plt.imshow(PlasmidM, cmap='OrRd')\n",
    "    #plt.clim(0,5)\n",
    "    plt.xticks([])\n",
    "    plt.yticks([])\n",
    "plt.savefig('VariousLandscape_Abso_1.pdf')\n",
    "plt.show()"
   ]
  },
  {
   "cell_type": "code",
   "execution_count": 66,
   "metadata": {},
   "outputs": [
    {
     "name": "stdout",
     "output_type": "stream",
     "text": [
      "0\n",
      "1\n",
      "2\n",
      "3\n"
     ]
    },
    {
     "data": {
      "image/png": "[encoded data removed]",
      "text/plain": [
       "<Figure size 400x200 with 4 Axes>"
      ]
     },
     "metadata": {},
     "output_type": "display_data"
    }
   ],
   "source": [
    "tpoints=[0.2,0.4,0.6,0.8]\n",
    "plt.figure(figsize=(4,2))\n",
    "for j in range(len(tpoints)):\n",
    "    print(j)\n",
    "    tpoint=int(tpoints[j]*np.size(y1,1))-1\n",
    "    #Plasmid=y1[np.arange(Scale**2,(Scale**2)*2,1),tpoint]\n",
    "    Plasmid=np.divide(y1[np.arange(Scale**2,(Scale**2)*2,1),tpoint],y1[np.arange(0,(Scale**2),1),tpoint]+y1[np.arange(Scale**2,(Scale**2)*2,1),tpoint])\n",
    "    PlasmidM=np.zeros((Scale,Scale))\n",
    "    for i in range(len(Plasmid)):\n",
    "        aa=Arr2Posi(Scale,i)\n",
    "        PlasmidM[aa[0],aa[1]]=Plasmid[i]\n",
    "    plt.subplot(1,len(tpoints),j+1)\n",
    "    plt.imshow(PlasmidM, cmap='OrRd')\n",
    "    plt.clim(0,1)\n",
    "    plt.xticks([])\n",
    "    plt.yticks([])\n",
    "plt.savefig('VariousLandscape_Rela_1.pdf')\n",
    "plt.show()"
   ]
  },
  {
   "cell_type": "code",
   "execution_count": 67,
   "metadata": {},
   "outputs": [
    {
     "name": "stdout",
     "output_type": "stream",
     "text": [
      "0\n",
      "1\n",
      "2\n",
      "3\n"
     ]
    },
    {
     "data": {
      "image/png": "[encoded data removed]",
      "text/plain": [
       "<Figure size 400x200 with 4 Axes>"
      ]
     },
     "metadata": {},
     "output_type": "display_data"
    }
   ],
   "source": [
    "Eta=0.05\n",
    "\n",
    "sol=solve_ivp(ARG_Move,[0,max(timespan)],Initial,method='RK23',t_eval=timespan)\n",
    "y1=sol.y\n",
    "\n",
    "tpoints=[0.2,0.4,0.6,0.8]\n",
    "plt.figure(figsize=(4,2))\n",
    "for j in range(len(tpoints)):\n",
    "    print(j)\n",
    "    tpoint=int(tpoints[j]*np.size(y1,1))-1\n",
    "    Plasmid=y1[np.arange(Scale**2,(Scale**2)*2,1),tpoint]\n",
    "    #Plasmid=np.divide(y1[np.arange(Scale**2,(Scale**2)*2,1),tpoint],y1[np.arange(0,(Scale**2),1),tpoint]+y1[np.arange(Scale**2,(Scale**2)*2,1),tpoint])\n",
    "    PlasmidM=np.zeros((Scale,Scale))\n",
    "    for i in range(len(Plasmid)):\n",
    "        aa=Arr2Posi(Scale,i)\n",
    "        PlasmidM[aa[0],aa[1]]=Plasmid[i]\n",
    "    plt.subplot(1,len(tpoints),j+1)\n",
    "    plt.imshow(PlasmidM, cmap='OrRd')\n",
    "    #plt.clim(0,5)\n",
    "    plt.xticks([])\n",
    "    plt.yticks([])\n",
    "plt.savefig('VariousLandscape_Abso_2.pdf')\n",
    "plt.show()"
   ]
  },
  {
   "cell_type": "code",
   "execution_count": 68,
   "metadata": {},
   "outputs": [
    {
     "name": "stdout",
     "output_type": "stream",
     "text": [
      "0\n",
      "1\n",
      "2\n",
      "3\n"
     ]
    },
    {
     "data": {
      "image/png": "[encoded data removed]",
      "text/plain": [
       "<Figure size 400x200 with 4 Axes>"
      ]
     },
     "metadata": {},
     "output_type": "display_data"
    }
   ],
   "source": [
    "tpoints=[0.2,0.4,0.6,0.8]\n",
    "plt.figure(figsize=(4,2))\n",
    "for j in range(len(tpoints)):\n",
    "    print(j)\n",
    "    tpoint=int(tpoints[j]*np.size(y1,1))-1\n",
    "    #Plasmid=y1[np.arange(Scale**2,(Scale**2)*2,1),tpoint]\n",
    "    Plasmid=np.divide(y1[np.arange(Scale**2,(Scale**2)*2,1),tpoint],y1[np.arange(0,(Scale**2),1),tpoint]+y1[np.arange(Scale**2,(Scale**2)*2,1),tpoint])\n",
    "    PlasmidM=np.zeros((Scale,Scale))\n",
    "    for i in range(len(Plasmid)):\n",
    "        aa=Arr2Posi(Scale,i)\n",
    "        PlasmidM[aa[0],aa[1]]=Plasmid[i]\n",
    "    plt.subplot(1,len(tpoints),j+1)\n",
    "    plt.imshow(PlasmidM, cmap='OrRd')\n",
    "    plt.clim(0,1)\n",
    "    plt.xticks([])\n",
    "    plt.yticks([])\n",
    "plt.savefig('VariousLandscape_Rela_2.pdf')\n",
    "plt.show()"
   ]
  },
  {
   "cell_type": "code",
   "execution_count": 69,
   "metadata": {},
   "outputs": [
    {
     "name": "stdout",
     "output_type": "stream",
     "text": [
      "0\n",
      "1\n",
      "2\n",
      "3\n"
     ]
    },
    {
     "data": {
      "image/png": "[encoded data removed]",
      "text/plain": [
       "<Figure size 400x200 with 4 Axes>"
      ]
     },
     "metadata": {},
     "output_type": "display_data"
    }
   ],
   "source": [
    "Eta=0.1\n",
    "\n",
    "sol=solve_ivp(ARG_Move,[0,max(timespan)],Initial,method='RK23',t_eval=timespan)\n",
    "y1=sol.y\n",
    "\n",
    "tpoints=[0.2,0.4,0.6,0.8]\n",
    "plt.figure(figsize=(4,2))\n",
    "for j in range(len(tpoints)):\n",
    "    print(j)\n",
    "    tpoint=int(tpoints[j]*np.size(y1,1))-1\n",
    "    Plasmid=y1[np.arange(Scale**2,(Scale**2)*2,1),tpoint]\n",
    "    #Plasmid=np.divide(y1[np.arange(Scale**2,(Scale**2)*2,1),tpoint],y1[np.arange(0,(Scale**2),1),tpoint]+y1[np.arange(Scale**2,(Scale**2)*2,1),tpoint])\n",
    "    PlasmidM=np.zeros((Scale,Scale))\n",
    "    for i in range(len(Plasmid)):\n",
    "        aa=Arr2Posi(Scale,i)\n",
    "        PlasmidM[aa[0],aa[1]]=Plasmid[i]\n",
    "    plt.subplot(1,len(tpoints),j+1)\n",
    "    plt.imshow(PlasmidM, cmap='OrRd')\n",
    "    #plt.clim(0,5)\n",
    "    plt.xticks([])\n",
    "    plt.yticks([])\n",
    "plt.savefig('VariousLandscape_Abso_3.pdf')\n",
    "plt.show()"
   ]
  },
  {
   "cell_type": "code",
   "execution_count": 70,
   "metadata": {},
   "outputs": [
    {
     "name": "stdout",
     "output_type": "stream",
     "text": [
      "0\n",
      "1\n",
      "2\n",
      "3\n"
     ]
    },
    {
     "data": {
      "image/png": "[encoded data removed]",
      "text/plain": [
       "<Figure size 400x200 with 4 Axes>"
      ]
     },
     "metadata": {},
     "output_type": "display_data"
    }
   ],
   "source": [
    "tpoints=[0.2,0.4,0.6,0.8]\n",
    "plt.figure(figsize=(4,2))\n",
    "for j in range(len(tpoints)):\n",
    "    print(j)\n",
    "    tpoint=int(tpoints[j]*np.size(y1,1))-1\n",
    "    #Plasmid=y1[np.arange(Scale**2,(Scale**2)*2,1),tpoint]\n",
    "    Plasmid=np.divide(y1[np.arange(Scale**2,(Scale**2)*2,1),tpoint],y1[np.arange(0,(Scale**2),1),tpoint]+y1[np.arange(Scale**2,(Scale**2)*2,1),tpoint])\n",
    "    PlasmidM=np.zeros((Scale,Scale))\n",
    "    for i in range(len(Plasmid)):\n",
    "        aa=Arr2Posi(Scale,i)\n",
    "        PlasmidM[aa[0],aa[1]]=Plasmid[i]\n",
    "    plt.subplot(1,len(tpoints),j+1)\n",
    "    plt.imshow(PlasmidM, cmap='OrRd')\n",
    "    plt.clim(0,1)\n",
    "    plt.xticks([])\n",
    "    plt.yticks([])\n",
    "plt.savefig('VariousLandscape_Rela_3.pdf')\n",
    "plt.show()"
   ]
  }
 ],
 "metadata": {
  "kernelspec": {
   "display_name": "Python 3",
   "language": "python",
   "name": "python3"
  },
  "language_info": {
   "codemirror_mode": {
    "name": "ipython",
    "version": 3
   },
   "file_extension": ".py",
   "mimetype": "text/x-python",
   "name": "python",
   "nbconvert_exporter": "python",
   "pygments_lexer": "ipython3",
   "version": "3.11.3"
  }
 },
 "nbformat": 4,
 "nbformat_minor": 2
}
