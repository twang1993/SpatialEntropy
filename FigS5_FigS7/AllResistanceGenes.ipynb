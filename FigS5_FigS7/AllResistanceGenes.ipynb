{
 "cells": [
  {
   "cell_type": "code",
   "execution_count": 21,
   "metadata": {},
   "outputs": [],
   "source": [
    "import matplotlib.pyplot as plt\n",
    "import numpy as np\n",
    "import scipy as sp\n",
    "import math\n",
    "from scipy.integrate import odeint\n",
    "import pandas as pd\n",
    "import seaborn\n",
    "from scipy import stats"
   ]
  },
  {
   "cell_type": "code",
   "execution_count": 22,
   "metadata": {},
   "outputs": [],
   "source": [
    "df = pd.read_csv('AllResistanceGenes.csv')"
   ]
  },
  {
   "cell_type": "code",
   "execution_count": 23,
   "metadata": {},
   "outputs": [
    {
     "name": "stdout",
     "output_type": "stream",
     "text": [
      "34688\n"
     ]
    }
   ],
   "source": [
    "print(np.size(df,0))#.Antimicrobial_resistance_chromosome[i]\n"
   ]
  },
  {
   "cell_type": "code",
   "execution_count": 24,
   "metadata": {},
   "outputs": [],
   "source": [
    "ARGChro=np.zeros(np.size(df,0))\n",
    "BioChro=np.zeros(np.size(df,0))\n",
    "ARGPlas=np.zeros(np.size(df,0))\n",
    "BioPlas=np.zeros(np.size(df,0))\n",
    "PlasTotal=np.zeros(np.size(df,0))\n",
    "PlasNum=np.zeros(np.size(df,0))\n",
    "for i in range(np.size(df,0)):\n",
    "    ARGChro[i]=df.Antimicrobial_resistance_chromosome[i]\n",
    "    BioChro[i]=df.biofilm_chromosome[i]\n",
    "    ARGPlas[i]=df.Antimicrobial_resistance_plasmid[i]\n",
    "    BioPlas[i]=df.biofilm_plasmid[i]\n",
    "    PlasTotal[i]=df.plasmid_total_size[i]\n",
    "    PlasNum[i]=df.plasmid_count[i]"
   ]
  },
  {
   "cell_type": "code",
   "execution_count": 25,
   "metadata": {},
   "outputs": [],
   "source": [
    "x00=0\n",
    "x01=0\n",
    "x10=0\n",
    "x11=0\n",
    "\n",
    "PP0ARGPlas=[]\n",
    "PP0ARGPerPlas=[]\n",
    "PP1ARGPlas=[]\n",
    "PP0ARGChro=[]\n",
    "PP1ARGChro=[]\n",
    "PP0ARGTot=[]\n",
    "PP1ARGTot=[]\n",
    "PP0PlasNum=[]\n",
    "PP1PlasNum=[]\n",
    "PP0PlasTotalSize=[]\n",
    "PP1PlasTotalSize=[]\n",
    "PP1ARGPerPlas=[]\n",
    "\n",
    "for i in range(len(BioChro)):\n",
    "    if BioChro[i]==0 and PlasNum[i]==0:\n",
    "        x00=x00+1\n",
    "        #PP0ARGPlas.append(ARGPlas[i])\n",
    "        PP0ARGChro.append(ARGChro[i])\n",
    "        PP0ARGTot.append(ARGPlas[i]+ARGChro[i])\n",
    "        PP0PlasNum.append(PlasNum[i])\n",
    "        PP0PlasTotalSize.append(PlasTotal[i])\n",
    "    if BioChro[i]==0 and PlasNum[i]>0:\n",
    "        x01=x01+1\n",
    "        PP0ARGPlas.append(ARGPlas[i])\n",
    "        PP0ARGPerPlas.append(ARGPlas[i]/PlasNum[i])\n",
    "        PP0ARGChro.append(ARGChro[i])\n",
    "        PP0ARGTot.append(ARGPlas[i]+ARGChro[i])\n",
    "        PP0PlasNum.append(PlasNum[i])\n",
    "        PP0PlasTotalSize.append(PlasTotal[i])\n",
    "    if BioChro[i]>0 and PlasNum[i]==0:\n",
    "        x10=x10+1\n",
    "        #PP1ARGPlas.append(ARGPlas[i])\n",
    "        PP1ARGChro.append(ARGChro[i])\n",
    "        PP1ARGTot.append(ARGPlas[i]+ARGChro[i])\n",
    "        PP1PlasNum.append(PlasNum[i])\n",
    "        PP1PlasTotalSize.append(PlasTotal[i])\n",
    "    if BioChro[i]>0 and PlasNum[i]>0:\n",
    "        x11=x11+1\n",
    "        PP1ARGPlas.append(ARGPlas[i])\n",
    "        PP1ARGPerPlas.append(ARGPlas[i]/PlasNum[i])\n",
    "        PP1ARGChro.append(ARGChro[i])\n",
    "        PP1ARGTot.append(ARGPlas[i]+ARGChro[i])\n",
    "        PP1PlasNum.append(PlasNum[i])\n",
    "        PP1PlasTotalSize.append(PlasTotal[i])"
   ]
  },
  {
   "cell_type": "code",
   "execution_count": 34,
   "metadata": {},
   "outputs": [
    {
     "name": "stdout",
     "output_type": "stream",
     "text": [
      "0.8261136982690449\n",
      "0.3324400316316668\n"
     ]
    }
   ],
   "source": [
    "print(np.mean(PP0PlasNum))\n",
    "print(x01/(x00+x01))"
   ]
  },
  {
   "cell_type": "code",
   "execution_count": 27,
   "metadata": {},
   "outputs": [
    {
     "data": {
      "image/png": "[encoded data removed]",
      "text/plain": [
       "<Figure size 100x150 with 1 Axes>"
      ]
     },
     "metadata": {},
     "output_type": "display_data"
    }
   ],
   "source": [
    "plt.figure(figsize=(1,1.5))\n",
    "y1=[x01/(x00+x01),x11/(x10+x11)]\n",
    "y2=[x00/(x00+x01),x10/(x10+x11)]\n",
    "x=['without bioflim','with bioflim']\n",
    "plt.bar(x, y1, color='#CC5A4E',width=0.7)\n",
    "plt.bar(x, y2, bottom=y1, color='#FBD8C6',width=0.7)\n",
    "plt.ylabel('plasmid fraction',fontsize=20)\n",
    "for pos in ['right', 'top']: \n",
    "    plt.gca().spines[pos].set_visible(False) \n",
    "plt.tick_params(direction='out')\n",
    "plt.savefig('AllResistanceGenes_1.pdf')\n",
    "plt.show()\n"
   ]
  },
  {
   "cell_type": "code",
   "execution_count": 28,
   "metadata": {},
   "outputs": [
    {
     "name": "stdout",
     "output_type": "stream",
     "text": [
      "0.0\n"
     ]
    },
    {
     "data": {
      "image/png": "[encoded data removed]",
      "text/plain": [
       "<Figure size 100x150 with 1 Axes>"
      ]
     },
     "metadata": {},
     "output_type": "display_data"
    }
   ],
   "source": [
    "plt.figure(figsize=(1,1.5))\n",
    "seaborn.boxplot([PP0ARGPlas,PP1ARGPlas],fliersize=0,width=0.5)\n",
    "for pos in ['right', 'top']: \n",
    "    plt.gca().spines[pos].set_visible(False) \n",
    "plt.tick_params(direction='out')\n",
    "plt.ylim(-1,35)\n",
    "tstat, pval = stats.ttest_ind(a=PP0ARGPlas, b=PP1ARGPlas, alternative=\"two-sided\")\n",
    "plt.savefig('AllResistanceGenes_4.pdf')\n",
    "print(pval)"
   ]
  },
  {
   "cell_type": "code",
   "execution_count": 29,
   "metadata": {},
   "outputs": [
    {
     "name": "stdout",
     "output_type": "stream",
     "text": [
      "0.0\n"
     ]
    },
    {
     "data": {
      "image/png": "[encoded data removed]",
      "text/plain": [
       "<Figure size 100x150 with 1 Axes>"
      ]
     },
     "metadata": {},
     "output_type": "display_data"
    }
   ],
   "source": [
    "plt.figure(figsize=(1,1.5))\n",
    "seaborn.boxplot([PP0ARGPerPlas,PP1ARGPerPlas],fliersize=0,width=0.5)\n",
    "for pos in ['right', 'top']: \n",
    "    plt.gca().spines[pos].set_visible(False) \n",
    "plt.tick_params(direction='out')\n",
    "plt.ylim(-1,12)\n",
    "tstat, pval = stats.ttest_ind(a=PP0ARGPlas, b=PP1ARGPlas, alternative=\"two-sided\")\n",
    "plt.savefig('AllResistanceGenes_5.pdf')\n",
    "print(pval)"
   ]
  },
  {
   "cell_type": "code",
   "execution_count": 30,
   "metadata": {},
   "outputs": [
    {
     "name": "stdout",
     "output_type": "stream",
     "text": [
      "0.0\n"
     ]
    },
    {
     "data": {
      "image/png": "[encoded data removed]",
      "text/plain": [
       "<Figure size 100x150 with 1 Axes>"
      ]
     },
     "metadata": {},
     "output_type": "display_data"
    }
   ],
   "source": [
    "plt.figure(figsize=(1,1.5))\n",
    "seaborn.boxplot([PP0ARGChro,PP1ARGChro],fliersize=0,width=0.5)\n",
    "for pos in ['right', 'top']: \n",
    "    plt.gca().spines[pos].set_visible(False) \n",
    "plt.tick_params(direction='out')\n",
    "plt.ylim(-3,80)\n",
    "tstat, pval = stats.ttest_ind(a=PP0ARGChro, b=PP1ARGChro, alternative=\"two-sided\")\n",
    "plt.savefig('AllResistanceGenes_6.pdf')\n",
    "print(pval)"
   ]
  },
  {
   "cell_type": "code",
   "execution_count": 31,
   "metadata": {},
   "outputs": [
    {
     "name": "stdout",
     "output_type": "stream",
     "text": [
      "0.0\n"
     ]
    },
    {
     "data": {
      "image/png": "[encoded data removed]",
      "text/plain": [
       "<Figure size 100x150 with 1 Axes>"
      ]
     },
     "metadata": {},
     "output_type": "display_data"
    }
   ],
   "source": [
    "plt.figure(figsize=(1,1.5))\n",
    "seaborn.boxplot([PP0ARGTot,PP1ARGTot],fliersize=0,width=0.5)\n",
    "for pos in ['right', 'top']: \n",
    "    plt.gca().spines[pos].set_visible(False) \n",
    "plt.tick_params(direction='out')\n",
    "plt.ylim(-3,100)\n",
    "tstat, pval = stats.ttest_ind(a=PP0ARGTot, b=PP1ARGTot, alternative=\"two-sided\")\n",
    "plt.savefig('AllResistanceGenes_7.pdf')\n",
    "print(pval)"
   ]
  },
  {
   "cell_type": "code",
   "execution_count": 32,
   "metadata": {},
   "outputs": [
    {
     "name": "stdout",
     "output_type": "stream",
     "text": [
      "0.0\n"
     ]
    },
    {
     "data": {
      "image/png": "[encoded data removed]",
      "text/plain": [
       "<Figure size 100x150 with 1 Axes>"
      ]
     },
     "metadata": {},
     "output_type": "display_data"
    }
   ],
   "source": [
    "plt.figure(figsize=(1,1.5))\n",
    "seaborn.boxplot([PP0PlasNum,PP1PlasNum],fliersize=0,width=0.5)\n",
    "for pos in ['right', 'top']: \n",
    "    plt.gca().spines[pos].set_visible(False) \n",
    "plt.tick_params(direction='out')\n",
    "plt.ylim(-1,10)\n",
    "tstat, pval = stats.ttest_ind(a=PP0ARGTot, b=PP1ARGTot, alternative=\"two-sided\")\n",
    "plt.savefig('AllResistanceGenes_2.pdf')\n",
    "print(pval)"
   ]
  },
  {
   "cell_type": "code",
   "execution_count": 33,
   "metadata": {},
   "outputs": [
    {
     "name": "stdout",
     "output_type": "stream",
     "text": [
      "0.0\n"
     ]
    },
    {
     "data": {
      "image/png": "[encoded data removed]",
      "text/plain": [
       "<Figure size 100x150 with 1 Axes>"
      ]
     },
     "metadata": {},
     "output_type": "display_data"
    }
   ],
   "source": [
    "plt.figure(figsize=(1,1.5))\n",
    "seaborn.boxplot([PP0PlasTotalSize,PP1PlasTotalSize],fliersize=0,width=0.5)\n",
    "for pos in ['right', 'top']: \n",
    "    plt.gca().spines[pos].set_visible(False) \n",
    "plt.tick_params(direction='out')\n",
    "plt.ylim(-0.4*10**5,10*10**5)\n",
    "#plt.yscale('log')\n",
    "tstat, pval = stats.ttest_ind(a=PP0ARGTot, b=PP1ARGTot, alternative=\"two-sided\")\n",
    "plt.savefig('AllResistanceGenes_3.pdf')\n",
    "print(pval)"
   ]
  }
 ],
 "metadata": {
  "kernelspec": {
   "display_name": "Python 3",
   "language": "python",
   "name": "python3"
  },
  "language_info": {
   "codemirror_mode": {
    "name": "ipython",
    "version": 3
   },
   "file_extension": ".py",
   "mimetype": "text/x-python",
   "name": "python",
   "nbconvert_exporter": "python",
   "pygments_lexer": "ipython3",
   "version": "3.11.3"
  }
 },
 "nbformat": 4,
 "nbformat_minor": 2
}
