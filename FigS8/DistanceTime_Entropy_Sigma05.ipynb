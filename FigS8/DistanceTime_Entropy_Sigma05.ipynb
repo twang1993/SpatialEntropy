{
 "cells": [
  {
   "cell_type": "code",
   "execution_count": 33,
   "metadata": {},
   "outputs": [],
   "source": [
    "import matplotlib.pyplot as plt\n",
    "import numpy as np\n",
    "from perlin_noise import PerlinNoise\n",
    "from scipy.integrate import solve_ivp"
   ]
  },
  {
   "cell_type": "code",
   "execution_count": 34,
   "metadata": {},
   "outputs": [],
   "source": [
    "global Scale,AbunMatrix,Eta,Connec,Kappa,Abun0,mu0,mu1,D,Sigma"
   ]
  },
  {
   "cell_type": "code",
   "execution_count": 35,
   "metadata": {},
   "outputs": [],
   "source": [
    "def Arr2Posi(num,y):\n",
    "    a=np.mod(y,num)\n",
    "    b=int((y-a)/num)\n",
    "    return [a,b]"
   ]
  },
  {
   "cell_type": "code",
   "execution_count": 36,
   "metadata": {},
   "outputs": [],
   "source": [
    "def Posi2Arr(num,a,b):\n",
    "    return a+b*num"
   ]
  },
  {
   "cell_type": "code",
   "execution_count": 37,
   "metadata": {},
   "outputs": [],
   "source": [
    "def Dis(num,x,index):\n",
    "    y=np.zeros(len(x))\n",
    "    AA=Arr2Posi(num,index)\n",
    "    for i in range(len(x)):\n",
    "        BB=Arr2Posi(num,x[i])\n",
    "        y[i]=np.sqrt((AA[0]-BB[0])**2+(AA[1]-BB[1])**2)\n",
    "    return y"
   ]
  },
  {
   "cell_type": "code",
   "execution_count": 38,
   "metadata": {},
   "outputs": [],
   "source": [
    "def Nearby(num,y):\n",
    "    A=[]\n",
    "    [a,b]=Arr2Posi(num,y)\n",
    "    if a>0:\n",
    "        A.append(Posi2Arr(num,a-1,b))\n",
    "    if a<num-1:\n",
    "        A.append(Posi2Arr(num,a+1,b))\n",
    "    if b>0:\n",
    "        A.append(Posi2Arr(num,a,b-1))\n",
    "    if b<num-1:\n",
    "        A.append(Posi2Arr(num,a,b+1))\n",
    "    return A"
   ]
  },
  {
   "cell_type": "code",
   "execution_count": 39,
   "metadata": {},
   "outputs": [],
   "source": [
    "def ARG_Move(t,y):\n",
    "    dydt=np.zeros((Scale**2)*2)\n",
    "    for i in range(Scale**2):\n",
    "        aa=Arr2Posi(Scale,i)\n",
    "        bb=Nearby(Scale,i)\n",
    "        ss0=0\n",
    "        ss1=0\n",
    "        for j in range(len(bb)):\n",
    "            ss0=ss0+y[bb[j]]\n",
    "            ss1=ss1+y[bb[j]+Scale**2]**Sigma\n",
    "        if AbunMatrix[aa[0],aa[1]]==0:\n",
    "            dydt[i]=0\n",
    "            dydt[i+Scale**2]=0\n",
    "        else:\n",
    "            dydt[i]=mu0*y[i]*(1-(y[i]+y[i+Scale**2])/AbunMatrix[aa[0],aa[1]])-Eta*(y[i]**Sigma)*((y[i+Scale**2]**Sigma)+Connec*ss1)+Kappa*y[i+Scale**2]-D*y[i]\n",
    "            dydt[i+Scale**2]=mu1*y[i+Scale**2]*(1-(y[i]+y[i+Scale**2])/AbunMatrix[aa[0],aa[1]])+Eta*(y[i]**Sigma)*((y[i+Scale**2]**Sigma)+Connec*ss1)-Kappa*y[i+Scale**2]-D*y[i+Scale**2]\n",
    "    return dydt"
   ]
  },
  {
   "cell_type": "code",
   "execution_count": 40,
   "metadata": {},
   "outputs": [
    {
     "name": "stdout",
     "output_type": "stream",
     "text": [
      "0\n",
      "1\n",
      "2\n",
      "3\n",
      "4\n",
      "0\n",
      "1\n",
      "2\n",
      "3\n",
      "4\n",
      "0\n"
     ]
    },
    {
     "name": "stderr",
     "output_type": "stream",
     "text": [
      "C:\\Users\\tengw\\AppData\\Local\\Temp\\ipykernel_22484\\2791573265.py:15: RuntimeWarning: invalid value encountered in scalar power\n",
      "  dydt[i]=mu0*y[i]*(1-(y[i]+y[i+Scale**2])/AbunMatrix[aa[0],aa[1]])-Eta*(y[i]**Sigma)*((y[i+Scale**2]**Sigma)+Connec*ss1)+Kappa*y[i+Scale**2]-D*y[i]\n",
      "C:\\Users\\tengw\\AppData\\Local\\Temp\\ipykernel_22484\\2791573265.py:16: RuntimeWarning: invalid value encountered in scalar power\n",
      "  dydt[i+Scale**2]=mu1*y[i+Scale**2]*(1-(y[i]+y[i+Scale**2])/AbunMatrix[aa[0],aa[1]])+Eta*(y[i]**Sigma)*((y[i+Scale**2]**Sigma)+Connec*ss1)-Kappa*y[i+Scale**2]-D*y[i+Scale**2]\n"
     ]
    },
    {
     "name": "stdout",
     "output_type": "stream",
     "text": [
      "1\n",
      "2\n",
      "3\n",
      "4\n"
     ]
    }
   ],
   "source": [
    "Scale=21\n",
    "SSs=np.arange(0.8,4.8,0.8)\n",
    "Etas=[0.01,0.02,0.03]\n",
    "repeats=5\n",
    "Entropy=np.zeros((len(SSs),len(Etas),repeats))\n",
    "Sigma=0.5\n",
    "\n",
    "Connec=0.04\n",
    "Kappa=0.01\n",
    "Abun0=0.01\n",
    "mu0=0.5\n",
    "mu1=0.48\n",
    "D=0.02\n",
    "Center=int((Scale-1)/2)\n",
    "timespan=np.arange(0,500,1)\n",
    "\n",
    "TIME=np.zeros((len(SSs),len(timespan),len(Etas),repeats))\n",
    "RRR=np.zeros((len(SSs),len(timespan),len(Etas),repeats))\n",
    "BBB=np.zeros((len(SSs),len(timespan),len(Etas),repeats))\n",
    "FFF=np.zeros((len(SSs),len(timespan),len(Etas),repeats))\n",
    "\n",
    "SeedList=[1,2,3,4,5,6,7,8,9,10,11,12,13,14,15,16,17,18,19,20]\n",
    "for xcv in range(len(Etas)):\n",
    "    Eta=Etas[xcv]\n",
    "    for qwe in range(len(SSs)):\n",
    "        print(qwe)\n",
    "        SS=SSs[qwe]\n",
    "        for repeat in range(repeats):\n",
    "            noise = PerlinNoise(octaves=6, seed=int(np.random.choice(SeedList)))\n",
    "            xpix, ypix = Scale, Scale\n",
    "            pic = [[noise([i/xpix, j/ypix]) for j in range(xpix)] for i in range(ypix)]\n",
    "            land=(np.abs(pic))**SS\n",
    "            land=0.001+(land-np.min(land))/(np.max(land)-np.min(land))*0.999\n",
    "            #xxxx=np.min(land[np.nonzero(land)])\n",
    "            #for fgh in range(Scale):\n",
    "            #    for jkl in range(Scale):\n",
    "            #        if land[fgh,jkl]==0:\n",
    "            #            land[fgh,jkl]=xxxx\n",
    "            AbunMatrix=land/np.sum(land)*Scale**2\n",
    "            land_p=[]\n",
    "            for x in AbunMatrix.flatten():\n",
    "                if x>0:\n",
    "                    land_p.append(x)\n",
    "            temp=land_p/sum(land_p)\n",
    "            Entropy[qwe,xcv,repeat]=np.exp(sum(-temp*np.log(temp)))/xpix/ypix\n",
    "\n",
    "            InitialM=np.zeros((Scale,Scale))\n",
    "            InitialM[Center,Center]=Abun0*AbunMatrix[Center,Center]\n",
    "            Initial=np.concatenate((AbunMatrix.flatten(),InitialM.flatten()),axis=0)\n",
    "            sol=solve_ivp(ARG_Move,[0,max(timespan)],Initial,method='RK23',t_eval=timespan)\n",
    "            y1=sol.y\n",
    "            t1=sol.t\n",
    "            \n",
    "            thresh=0.01\n",
    "            CenterArr=Posi2Arr(Scale,Center,Center)\n",
    "            for j in range(len(t1)):\n",
    "                tpoint=j\n",
    "                TIME[qwe,j,xcv,repeat]=t1[j]\n",
    "                Plasmid=y1[np.arange(Scale**2,(Scale**2)*2,1),tpoint]\n",
    "                #Plasmid=np.divide(y1[np.arange(Scale**2,(Scale**2)*2,1),tpoint],y1[np.arange(0,(Scale**2),1),tpoint]+y1[np.arange(Scale**2,(Scale**2)*2,1),tpoint])\n",
    "                Index=[]\n",
    "                for i in range(len(Plasmid)):\n",
    "                    aa=Arr2Posi(Scale,i)\n",
    "                    if AbunMatrix[aa[0],aa[1]]>0 and Plasmid[i]/AbunMatrix[aa[0],aa[1]]>thresh:\n",
    "                        Index.append(i)\n",
    "                if len(Index)>0:\n",
    "                    RRR[qwe,j,xcv,repeat]=np.max(Dis(Scale,Index,CenterArr))\n",
    "                else:\n",
    "                    RRR[qwe,j,xcv,repeat]=0\n",
    "                BBB[qwe,j,xcv,repeat]=np.mean(y1[np.arange(Scale**2,(Scale**2)*2,1),tpoint])/(np.mean(y1[np.arange(0,Scale**2,1),tpoint])+np.mean(y1[np.arange(Scale**2,(Scale**2)*2,1),tpoint]))\n",
    "                FFF[qwe,j,xcv,repeat]=len(Index)/(Scale**2)\n"
   ]
  },
  {
   "cell_type": "code",
   "execution_count": 41,
   "metadata": {},
   "outputs": [
    {
     "name": "stdout",
     "output_type": "stream",
     "text": [
      "1\n"
     ]
    }
   ],
   "source": [
    "print(np.random.choice(SeedList))"
   ]
  },
  {
   "cell_type": "code",
   "execution_count": 44,
   "metadata": {},
   "outputs": [],
   "source": [
    "SPEEDAB=np.zeros((len(Entropy),len(Etas),repeats))\n",
    "for xcv in range(len(Etas)):\n",
    "    for i in range(len(SSs)):\n",
    "        for kk in range(repeats):\n",
    "            pin=np.size(TIME,1)\n",
    "            for j in np.arange(1,np.size(TIME,1),1):\n",
    "                if TIME[i,j,xcv,kk]==0:\n",
    "                    pin=j\n",
    "                    break\n",
    "            z=np.polyfit(TIME[i,range(max(20,min(pin,100))),xcv,kk],BBB[i,range(max(20,min(pin,100))),xcv,kk],1)\n",
    "            xcd=BBB[i,max(20,min(pin,100)),xcv,kk]/TIME[i,max(20,min(pin,100)),xcv,kk]\n",
    "            SPEEDAB[i,xcv,kk]=xcd#z[0]"
   ]
  },
  {
   "cell_type": "code",
   "execution_count": 45,
   "metadata": {},
   "outputs": [
    {
     "data": {
      "image/png": "[encoded data removed]",
      "text/plain": [
       "<Figure size 200x200 with 1 Axes>"
      ]
     },
     "metadata": {},
     "output_type": "display_data"
    }
   ],
   "source": [
    "plt.figure(figsize=(2,2))\n",
    "for i in range(len(Etas)):\n",
    "    plt.errorbar(np.mean(Entropy[:,i,:],1),np.mean(SPEEDAB[:,i,:],1),xerr=np.std(Entropy[:,i,:],1),yerr=np.std(SPEEDAB[:,i,:],1),marker='o',markersize=12,fillstyle='none')\n",
    "plt.xlabel('entropy',fontsize=20)\n",
    "plt.ylabel('abundance rate',fontsize=20)\n",
    "#plt.xlim([0.25,1])\n",
    "#plt.ylim([-0.0002,0.0022])\n",
    "plt.tick_params(direction='in',top='true',right='true')\n",
    "plt.savefig('DistanceTime_Entropy_2_Sigma05.pdf')\n",
    "plt.show()"
   ]
  }
 ],
 "metadata": {
  "kernelspec": {
   "display_name": "Python 3",
   "language": "python",
   "name": "python3"
  },
  "language_info": {
   "codemirror_mode": {
    "name": "ipython",
    "version": 3
   },
   "file_extension": ".py",
   "mimetype": "text/x-python",
   "name": "python",
   "nbconvert_exporter": "python",
   "pygments_lexer": "ipython3",
   "version": "3.11.3"
  }
 },
 "nbformat": 4,
 "nbformat_minor": 2
}
