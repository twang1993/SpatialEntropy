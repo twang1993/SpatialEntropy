{
 "cells": [
  {
   "cell_type": "code",
   "execution_count": 2,
   "metadata": {},
   "outputs": [],
   "source": [
    "import matplotlib.pyplot as plt\n",
    "import numpy as np\n",
    "import scipy as sp\n",
    "import math\n",
    "from scipy.integrate import odeint\n",
    "import pandas as pd\n",
    "import seaborn\n",
    "from scipy import stats"
   ]
  },
  {
   "cell_type": "code",
   "execution_count": 3,
   "metadata": {},
   "outputs": [],
   "source": [
    "df = pd.read_csv('AllResistanceGenes.csv')"
   ]
  },
  {
   "cell_type": "code",
   "execution_count": 4,
   "metadata": {},
   "outputs": [
    {
     "name": "stdout",
     "output_type": "stream",
     "text": [
      "34688\n"
     ]
    }
   ],
   "source": [
    "print(np.size(df,0))#.Antimicrobial_resistance_chromosome[i]"
   ]
  },
  {
   "cell_type": "code",
   "execution_count": 5,
   "metadata": {},
   "outputs": [],
   "source": [
    "ARGChro=np.zeros(np.size(df,0))\n",
    "BioChro=np.zeros(np.size(df,0))\n",
    "ARGPlas=np.zeros(np.size(df,0))\n",
    "BioPlas=np.zeros(np.size(df,0))\n",
    "PlasTotal=np.zeros(np.size(df,0))\n",
    "GenomeSize=np.zeros(np.size(df,0))\n",
    "PlasNum=np.zeros(np.size(df,0))\n",
    "for i in range(np.size(df,0)):\n",
    "    ARGChro[i]=df.Antimicrobial_resistance_chromosome[i]\n",
    "    BioChro[i]=df.biofilm_chromosome[i]\n",
    "    ARGPlas[i]=df.Antimicrobial_resistance_plasmid[i]\n",
    "    BioPlas[i]=df.biofilm_plasmid[i]\n",
    "    PlasTotal[i]=df.plasmid_total_size[i]\n",
    "    GenomeSize[i]=df.genome_size[i]\n",
    "    PlasNum[i]=df.plasmid_count[i]"
   ]
  },
  {
   "cell_type": "code",
   "execution_count": 16,
   "metadata": {},
   "outputs": [
    {
     "name": "stdout",
     "output_type": "stream",
     "text": [
      "0.0\n"
     ]
    },
    {
     "data": {
      "image/png": "[encoded data removed]",
      "text/plain": [
       "<Figure size 100x150 with 1 Axes>"
      ]
     },
     "metadata": {},
     "output_type": "display_data"
    }
   ],
   "source": [
    "a=[df.biofilm_chromosome,df.biofilm_plasmid]\n",
    "plt.figure(figsize=(1,1.5))\n",
    "seaborn.boxplot([BioChro,BioPlas],fliersize=0,width=0.5)\n",
    "for pos in ['right', 'top']: \n",
    "    plt.gca().spines[pos].set_visible(False) \n",
    "plt.tick_params(direction='out')\n",
    "plt.ylim(-1,11)\n",
    "tstat, pval = stats.ttest_ind(a=BioChro, b=BioPlas, alternative=\"two-sided\")\n",
    "plt.savefig('BFG_Distribution_1.pdf')\n",
    "print(pval)"
   ]
  }
 ],
 "metadata": {
  "kernelspec": {
   "display_name": "Python 3",
   "language": "python",
   "name": "python3"
  },
  "language_info": {
   "codemirror_mode": {
    "name": "ipython",
    "version": 3
   },
   "file_extension": ".py",
   "mimetype": "text/x-python",
   "name": "python",
   "nbconvert_exporter": "python",
   "pygments_lexer": "ipython3",
   "version": "3.11.3"
  }
 },
 "nbformat": 4,
 "nbformat_minor": 2
}
